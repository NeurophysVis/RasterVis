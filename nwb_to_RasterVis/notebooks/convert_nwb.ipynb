{
 "cells": [
  {
   "cell_type": "code",
   "execution_count": 1,
   "metadata": {},
   "outputs": [],
   "source": [
    "%reload_ext autoreload\n",
    "%autoreload 2\n",
    "\n",
    "import warnings\n",
    "warnings.simplefilter(\"ignore\", UserWarning)\n",
    "\n",
    "from scripts.nwb_to_rasterVis import create_figurl"
   ]
  },
  {
   "cell_type": "code",
   "execution_count": null,
   "metadata": {},
   "outputs": [],
   "source": [
    "# import kachery_cloud as kcl\n",
    "\n",
    "# kcl.init()"
   ]
  },
  {
   "cell_type": "code",
   "execution_count": null,
   "metadata": {},
   "outputs": [],
   "source": [
    "# need to be running gulp in the command line:\n",
    "# gulp"
   ]
  },
  {
   "cell_type": "code",
   "execution_count": 2,
   "metadata": {},
   "outputs": [
    {
     "name": "stdout",
     "output_type": "stream",
     "text": [
      "https://figurl.org/f?v=http://localhost:8000&d=sha1://ba7a136903628d8a1a0c393122cebe8730d2481c&label=figurl_data.json\n"
     ]
    },
    {
     "data": {
      "text/plain": [
       "'https://figurl.org/f?v=http://localhost:8000&d=sha1://ba7a136903628d8a1a0c393122cebe8730d2481c&label=figurl_data.json'"
      ]
     },
     "execution_count": 2,
     "metadata": {},
     "output_type": "execute_result"
    }
   ],
   "source": [
    "s3_url = \"https://api.dandiarchive.org/api/assets/b3cd4cca-58ad-4c9f-8247-401fa99c68e8/download/\"\n",
    "\n",
    "create_figurl(s3_url)"
   ]
  },
  {
   "cell_type": "code",
   "execution_count": 3,
   "metadata": {},
   "outputs": [
    {
     "name": "stdout",
     "output_type": "stream",
     "text": [
      "https://figurl.org/f?v=http://localhost:8000&d=sha1://6c673aef6f396b1788e12f570d030bbc6e374176&label=figurl_data.json\n"
     ]
    },
    {
     "data": {
      "text/plain": [
       "'https://figurl.org/f?v=http://localhost:8000&d=sha1://6c673aef6f396b1788e12f570d030bbc6e374176&label=figurl_data.json'"
      ]
     },
     "execution_count": 3,
     "metadata": {},
     "output_type": "execute_result"
    }
   ],
   "source": [
    "# https://dandiarchive.org/dandiset/000017/draft\n",
    "s3_url = \"https://api.dandiarchive.org/api/assets/0d98ccc4-824e-4f2c-bde5-cd994fabc15f/download/\"\n",
    "\n",
    "\n",
    "create_figurl(s3_url)"
   ]
  },
  {
   "cell_type": "code",
   "execution_count": 4,
   "metadata": {},
   "outputs": [
    {
     "name": "stdout",
     "output_type": "stream",
     "text": [
      "https://figurl.org/f?v=http://localhost:8000&d=sha1://15f5398e838cda3745b9dd8b9a9b1a75e6869f45&label=figurl_data.json\n"
     ]
    },
    {
     "data": {
      "text/plain": [
       "'https://figurl.org/f?v=http://localhost:8000&d=sha1://15f5398e838cda3745b9dd8b9a9b1a75e6869f45&label=figurl_data.json'"
      ]
     },
     "execution_count": 4,
     "metadata": {},
     "output_type": "execute_result"
    }
   ],
   "source": [
    "s3_url = \"https://api.dandiarchive.org/api/assets/92694e6e-84fd-4198-a7e3-64e764f8e086/download/\"\n",
    "\n",
    "create_figurl(s3_url)"
   ]
  },
  {
   "cell_type": "code",
   "execution_count": 5,
   "metadata": {},
   "outputs": [
    {
     "name": "stdout",
     "output_type": "stream",
     "text": [
      "Computing sha1 of /Users/edeno/Documents/GitHub/RasterVis/nwb_to_RasterVis/notebooks/figurl_data.json\n",
      "https://figurl.org/f?v=http://localhost:8000&d=sha1://92df98002c8e65f23166267190d18045b880e87e&label=figurl_data.json\n"
     ]
    },
    {
     "data": {
      "text/plain": [
       "'https://figurl.org/f?v=http://localhost:8000&d=sha1://92df98002c8e65f23166267190d18045b880e87e&label=figurl_data.json'"
      ]
     },
     "execution_count": 5,
     "metadata": {},
     "output_type": "execute_result"
    }
   ],
   "source": [
    "s3_url = \"https://api.dandiarchive.org/api/assets/56e3aaaa-099f-49a9-8f91-99232554cff8/download/\"\n",
    "\n",
    "create_figurl(s3_url)"
   ]
  },
  {
   "cell_type": "code",
   "execution_count": 6,
   "metadata": {},
   "outputs": [
    {
     "name": "stdout",
     "output_type": "stream",
     "text": [
      "Computing sha1 of /Users/edeno/Documents/GitHub/RasterVis/nwb_to_RasterVis/notebooks/figurl_data.json\n",
      "https://figurl.org/f?v=http://localhost:8000&d=sha1://92df98002c8e65f23166267190d18045b880e87e&label=figurl_data.json\n"
     ]
    },
    {
     "data": {
      "text/plain": [
       "'https://figurl.org/f?v=http://localhost:8000&d=sha1://92df98002c8e65f23166267190d18045b880e87e&label=figurl_data.json'"
      ]
     },
     "execution_count": 6,
     "metadata": {},
     "output_type": "execute_result"
    }
   ],
   "source": [
    "s3_url = \"https://api.dandiarchive.org/api/assets/56e3aaaa-099f-49a9-8f91-99232554cff8/download/\"\n",
    "\n",
    "create_figurl(s3_url)"
   ]
  },
  {
   "cell_type": "code",
   "execution_count": null,
   "metadata": {},
   "outputs": [],
   "source": []
  }
 ],
 "metadata": {
  "kernelspec": {
   "display_name": "nwb_to_RasterVis",
   "language": "python",
   "name": "python3"
  },
  "language_info": {
   "codemirror_mode": {
    "name": "ipython",
    "version": 3
   },
   "file_extension": ".py",
   "mimetype": "text/x-python",
   "name": "python",
   "nbconvert_exporter": "python",
   "pygments_lexer": "ipython3",
   "version": "3.12.2"
  }
 },
 "nbformat": 4,
 "nbformat_minor": 2
}
