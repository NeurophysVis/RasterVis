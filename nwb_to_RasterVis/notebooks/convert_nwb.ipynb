{
 "cells": [
  {
   "cell_type": "code",
   "execution_count": 1,
   "metadata": {},
   "outputs": [],
   "source": [
    "%reload_ext autoreload\n",
    "%autoreload 2"
   ]
  },
  {
   "cell_type": "code",
   "execution_count": 2,
   "metadata": {},
   "outputs": [],
   "source": [
    "from scripts.nwb_to_rasterVis import create_figurl"
   ]
  },
  {
   "cell_type": "code",
   "execution_count": 3,
   "metadata": {},
   "outputs": [],
   "source": [
    "# import kachery_cloud as kcl\n",
    "\n",
    "# kcl.init()"
   ]
  },
  {
   "cell_type": "code",
   "execution_count": 4,
   "metadata": {},
   "outputs": [
    {
     "name": "stderr",
     "output_type": "stream",
     "text": [
      "/Users/edeno/miniconda3/envs/nwb_to_RasterVis/lib/python3.12/site-packages/hdmf/utils.py:668: UserWarning: Ignoring cached namespace 'hdmf-common' version 1.5.0 because version 1.8.0 is already loaded.\n",
      "  return func(args[0], **pargs)\n",
      "/Users/edeno/miniconda3/envs/nwb_to_RasterVis/lib/python3.12/site-packages/hdmf/utils.py:668: UserWarning: Ignoring cached namespace 'hdmf-experimental' version 0.1.0 because version 0.5.0 is already loaded.\n",
      "  return func(args[0], **pargs)\n"
     ]
    },
    {
     "name": "stdout",
     "output_type": "stream",
     "text": [
      "https://figurl.org/f?v=https://figurl-raster-vis.surge.sh/index.html&d=sha1://30bf2252da2a992d3f3d029eeb1c980765839e30&label=figurl_data.json\n"
     ]
    },
    {
     "data": {
      "text/plain": [
       "'https://figurl.org/f?v=https://figurl-raster-vis.surge.sh/index.html&d=sha1://30bf2252da2a992d3f3d029eeb1c980765839e30&label=figurl_data.json'"
      ]
     },
     "execution_count": 4,
     "metadata": {},
     "output_type": "execute_result"
    }
   ],
   "source": [
    "s3_url = \"https://api.dandiarchive.org/api/assets/b3cd4cca-58ad-4c9f-8247-401fa99c68e8/download/\"\n",
    "\n",
    "create_figurl(s3_url)"
   ]
  },
  {
   "cell_type": "code",
   "execution_count": 5,
   "metadata": {},
   "outputs": [
    {
     "name": "stderr",
     "output_type": "stream",
     "text": [
      "/Users/edeno/miniconda3/envs/nwb_to_RasterVis/lib/python3.12/site-packages/hdmf/utils.py:668: UserWarning: Ignoring cached namespace 'hdmf-common' version 1.5.0 because version 1.8.0 is already loaded.\n",
      "  return func(args[0], **pargs)\n",
      "/Users/edeno/miniconda3/envs/nwb_to_RasterVis/lib/python3.12/site-packages/hdmf/utils.py:668: UserWarning: Ignoring cached namespace 'core' version 2.5.0 because version 2.6.0-alpha is already loaded.\n",
      "  return func(args[0], **pargs)\n",
      "/Users/edeno/miniconda3/envs/nwb_to_RasterVis/lib/python3.12/site-packages/hdmf/utils.py:668: UserWarning: Ignoring cached namespace 'hdmf-experimental' version 0.1.0 because version 0.5.0 is already loaded.\n",
      "  return func(args[0], **pargs)\n"
     ]
    },
    {
     "name": "stdout",
     "output_type": "stream",
     "text": [
      "https://figurl.org/f?v=https://figurl-raster-vis.surge.sh/index.html&d=sha1://222532aed5d31687658bdb05a3888a9412c36935&label=figurl_data.json\n"
     ]
    },
    {
     "data": {
      "text/plain": [
       "'https://figurl.org/f?v=https://figurl-raster-vis.surge.sh/index.html&d=sha1://222532aed5d31687658bdb05a3888a9412c36935&label=figurl_data.json'"
      ]
     },
     "execution_count": 5,
     "metadata": {},
     "output_type": "execute_result"
    }
   ],
   "source": [
    "s3_url = \"https://api.dandiarchive.org/api/assets/0d98ccc4-824e-4f2c-bde5-cd994fabc15f/download/\"\n",
    "\n",
    "\n",
    "create_figurl(s3_url)"
   ]
  },
  {
   "cell_type": "code",
   "execution_count": 6,
   "metadata": {},
   "outputs": [],
   "source": [
    "s3_url = \"https://api.dandiarchive.org/api/assets/92694e6e-84fd-4198-a7e3-64e764f8e086/download/\"\n",
    "\n",
    "create_figurl(s3_url)"
   ]
  },
  {
   "cell_type": "code",
   "execution_count": null,
   "metadata": {},
   "outputs": [],
   "source": []
  }
 ],
 "metadata": {
  "kernelspec": {
   "display_name": "nwb_to_RasterVis",
   "language": "python",
   "name": "python3"
  },
  "language_info": {
   "codemirror_mode": {
    "name": "ipython",
    "version": 3
   },
   "file_extension": ".py",
   "mimetype": "text/x-python",
   "name": "python",
   "nbconvert_exporter": "python",
   "pygments_lexer": "ipython3",
   "version": "3.12.2"
  }
 },
 "nbformat": 4,
 "nbformat_minor": 2
}
